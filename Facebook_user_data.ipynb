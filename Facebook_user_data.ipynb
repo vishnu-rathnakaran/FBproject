{
 "cells": [
  {
   "cell_type": "markdown",
   "metadata": {},
   "source": [
    "## Facebook User Data Analysis\n",
    "\n",
    "\n",
    "### The data framework analyse the facebook user's .From the given data set studies the pattern hidden in data set for the users.The behaviuor of each Facebook user depends on related with the each data's in the column.Here are checking the dependant and independant variables related with the main data. \n"
   ]
  },
  {
   "cell_type": "markdown",
   "metadata": {},
   "source": [
    "#### Intializing and importing the libraries for the EDA process"
   ]
  },
  {
   "cell_type": "code",
   "execution_count": 1,
   "metadata": {},
   "outputs": [],
   "source": [
    "import os\n",
    "import numpy as np\n",
    "import pandas as pd\n",
    "import seaborn as sns\n",
    "import matplotlib.pyplot as plt\n",
    "import warnings\n",
    "warnings.filterwarnings('ignore')"
   ]
  },
  {
   "cell_type": "markdown",
   "metadata": {},
   "source": [
    "### Calling the data sets and defing the data set into a variable\n",
    "\n",
    "\n",
    "#### Exploratory data anlysis over the data"
   ]
  },
  {
   "cell_type": "code",
   "execution_count": 2,
   "metadata": {},
   "outputs": [
    {
     "data": {
      "text/html": [
       "<div>\n",
       "<style scoped>\n",
       "    .dataframe tbody tr th:only-of-type {\n",
       "        vertical-align: middle;\n",
       "    }\n",
       "\n",
       "    .dataframe tbody tr th {\n",
       "        vertical-align: top;\n",
       "    }\n",
       "\n",
       "    .dataframe thead th {\n",
       "        text-align: right;\n",
       "    }\n",
       "</style>\n",
       "<table border=\"1\" class=\"dataframe\">\n",
       "  <thead>\n",
       "    <tr style=\"text-align: right;\">\n",
       "      <th></th>\n",
       "      <th>userid</th>\n",
       "      <th>age</th>\n",
       "      <th>dob_day</th>\n",
       "      <th>dob_year</th>\n",
       "      <th>dob_month</th>\n",
       "      <th>gender</th>\n",
       "      <th>tenure</th>\n",
       "      <th>friend_count</th>\n",
       "      <th>friendships_initiated</th>\n",
       "      <th>likes</th>\n",
       "      <th>likes_received</th>\n",
       "      <th>mobile_likes</th>\n",
       "      <th>mobile_likes_received</th>\n",
       "      <th>www_likes</th>\n",
       "      <th>www_likes_received</th>\n",
       "    </tr>\n",
       "  </thead>\n",
       "  <tbody>\n",
       "    <tr>\n",
       "      <th>0</th>\n",
       "      <td>2094382</td>\n",
       "      <td>14</td>\n",
       "      <td>19</td>\n",
       "      <td>1999</td>\n",
       "      <td>11</td>\n",
       "      <td>male</td>\n",
       "      <td>266.0</td>\n",
       "      <td>0</td>\n",
       "      <td>0</td>\n",
       "      <td>0</td>\n",
       "      <td>0</td>\n",
       "      <td>0</td>\n",
       "      <td>0</td>\n",
       "      <td>0</td>\n",
       "      <td>0</td>\n",
       "    </tr>\n",
       "    <tr>\n",
       "      <th>1</th>\n",
       "      <td>1192601</td>\n",
       "      <td>14</td>\n",
       "      <td>2</td>\n",
       "      <td>1999</td>\n",
       "      <td>11</td>\n",
       "      <td>female</td>\n",
       "      <td>6.0</td>\n",
       "      <td>0</td>\n",
       "      <td>0</td>\n",
       "      <td>0</td>\n",
       "      <td>0</td>\n",
       "      <td>0</td>\n",
       "      <td>0</td>\n",
       "      <td>0</td>\n",
       "      <td>0</td>\n",
       "    </tr>\n",
       "    <tr>\n",
       "      <th>2</th>\n",
       "      <td>2083884</td>\n",
       "      <td>14</td>\n",
       "      <td>16</td>\n",
       "      <td>1999</td>\n",
       "      <td>11</td>\n",
       "      <td>male</td>\n",
       "      <td>13.0</td>\n",
       "      <td>0</td>\n",
       "      <td>0</td>\n",
       "      <td>0</td>\n",
       "      <td>0</td>\n",
       "      <td>0</td>\n",
       "      <td>0</td>\n",
       "      <td>0</td>\n",
       "      <td>0</td>\n",
       "    </tr>\n",
       "    <tr>\n",
       "      <th>3</th>\n",
       "      <td>1203168</td>\n",
       "      <td>14</td>\n",
       "      <td>25</td>\n",
       "      <td>1999</td>\n",
       "      <td>12</td>\n",
       "      <td>female</td>\n",
       "      <td>93.0</td>\n",
       "      <td>0</td>\n",
       "      <td>0</td>\n",
       "      <td>0</td>\n",
       "      <td>0</td>\n",
       "      <td>0</td>\n",
       "      <td>0</td>\n",
       "      <td>0</td>\n",
       "      <td>0</td>\n",
       "    </tr>\n",
       "    <tr>\n",
       "      <th>4</th>\n",
       "      <td>1733186</td>\n",
       "      <td>14</td>\n",
       "      <td>4</td>\n",
       "      <td>1999</td>\n",
       "      <td>12</td>\n",
       "      <td>male</td>\n",
       "      <td>82.0</td>\n",
       "      <td>0</td>\n",
       "      <td>0</td>\n",
       "      <td>0</td>\n",
       "      <td>0</td>\n",
       "      <td>0</td>\n",
       "      <td>0</td>\n",
       "      <td>0</td>\n",
       "      <td>0</td>\n",
       "    </tr>\n",
       "  </tbody>\n",
       "</table>\n",
       "</div>"
      ],
      "text/plain": [
       "    userid  age  dob_day  dob_year  dob_month  gender  tenure  friend_count  \\\n",
       "0  2094382   14       19      1999         11    male   266.0             0   \n",
       "1  1192601   14        2      1999         11  female     6.0             0   \n",
       "2  2083884   14       16      1999         11    male    13.0             0   \n",
       "3  1203168   14       25      1999         12  female    93.0             0   \n",
       "4  1733186   14        4      1999         12    male    82.0             0   \n",
       "\n",
       "   friendships_initiated  likes  likes_received  mobile_likes  \\\n",
       "0                      0      0               0             0   \n",
       "1                      0      0               0             0   \n",
       "2                      0      0               0             0   \n",
       "3                      0      0               0             0   \n",
       "4                      0      0               0             0   \n",
       "\n",
       "   mobile_likes_received  www_likes  www_likes_received  \n",
       "0                      0          0                   0  \n",
       "1                      0          0                   0  \n",
       "2                      0          0                   0  \n",
       "3                      0          0                   0  \n",
       "4                      0          0                   0  "
      ]
     },
     "execution_count": 2,
     "metadata": {},
     "output_type": "execute_result"
    }
   ],
   "source": [
    "df = pd.read_csv('facebookdata.csv')\n",
    "df.head()"
   ]
  },
  {
   "cell_type": "code",
   "execution_count": 3,
   "metadata": {},
   "outputs": [
    {
     "data": {
      "text/plain": [
       "(99003, 15)"
      ]
     },
     "execution_count": 3,
     "metadata": {},
     "output_type": "execute_result"
    }
   ],
   "source": [
    "df.shape"
   ]
  },
  {
   "cell_type": "markdown",
   "metadata": {},
   "source": [
    "#### Checking the null values of the given data"
   ]
  },
  {
   "cell_type": "code",
   "execution_count": 4,
   "metadata": {},
   "outputs": [
    {
     "data": {
      "text/plain": [
       "userid                     0\n",
       "age                        0\n",
       "dob_day                    0\n",
       "dob_year                   0\n",
       "dob_month                  0\n",
       "gender                   175\n",
       "tenure                     2\n",
       "friend_count               0\n",
       "friendships_initiated      0\n",
       "likes                      0\n",
       "likes_received             0\n",
       "mobile_likes               0\n",
       "mobile_likes_received      0\n",
       "www_likes                  0\n",
       "www_likes_received         0\n",
       "dtype: int64"
      ]
     },
     "execution_count": 4,
     "metadata": {},
     "output_type": "execute_result"
    }
   ],
   "source": [
    "df.isnull().sum()"
   ]
  },
  {
   "cell_type": "markdown",
   "metadata": {},
   "source": [
    "#### From Checking null values we had found that the gender column having 175 null values and the tenure column having 2 null values."
   ]
  },
  {
   "cell_type": "code",
   "execution_count": 5,
   "metadata": {},
   "outputs": [
    {
     "data": {
      "text/html": [
       "<div>\n",
       "<style scoped>\n",
       "    .dataframe tbody tr th:only-of-type {\n",
       "        vertical-align: middle;\n",
       "    }\n",
       "\n",
       "    .dataframe tbody tr th {\n",
       "        vertical-align: top;\n",
       "    }\n",
       "\n",
       "    .dataframe thead th {\n",
       "        text-align: right;\n",
       "    }\n",
       "</style>\n",
       "<table border=\"1\" class=\"dataframe\">\n",
       "  <thead>\n",
       "    <tr style=\"text-align: right;\">\n",
       "      <th></th>\n",
       "      <th>userid</th>\n",
       "      <th>age</th>\n",
       "      <th>dob_day</th>\n",
       "      <th>dob_year</th>\n",
       "      <th>dob_month</th>\n",
       "      <th>gender</th>\n",
       "      <th>tenure</th>\n",
       "      <th>friend_count</th>\n",
       "      <th>friendships_initiated</th>\n",
       "      <th>likes</th>\n",
       "      <th>likes_received</th>\n",
       "      <th>mobile_likes</th>\n",
       "      <th>mobile_likes_received</th>\n",
       "      <th>www_likes</th>\n",
       "      <th>www_likes_received</th>\n",
       "    </tr>\n",
       "  </thead>\n",
       "  <tbody>\n",
       "    <tr>\n",
       "      <th>0</th>\n",
       "      <td>2094382</td>\n",
       "      <td>14</td>\n",
       "      <td>19</td>\n",
       "      <td>1999</td>\n",
       "      <td>11</td>\n",
       "      <td>1</td>\n",
       "      <td>266.0</td>\n",
       "      <td>0</td>\n",
       "      <td>0</td>\n",
       "      <td>0</td>\n",
       "      <td>0</td>\n",
       "      <td>0</td>\n",
       "      <td>0</td>\n",
       "      <td>0</td>\n",
       "      <td>0</td>\n",
       "    </tr>\n",
       "    <tr>\n",
       "      <th>1</th>\n",
       "      <td>1192601</td>\n",
       "      <td>14</td>\n",
       "      <td>2</td>\n",
       "      <td>1999</td>\n",
       "      <td>11</td>\n",
       "      <td>0</td>\n",
       "      <td>6.0</td>\n",
       "      <td>0</td>\n",
       "      <td>0</td>\n",
       "      <td>0</td>\n",
       "      <td>0</td>\n",
       "      <td>0</td>\n",
       "      <td>0</td>\n",
       "      <td>0</td>\n",
       "      <td>0</td>\n",
       "    </tr>\n",
       "    <tr>\n",
       "      <th>2</th>\n",
       "      <td>2083884</td>\n",
       "      <td>14</td>\n",
       "      <td>16</td>\n",
       "      <td>1999</td>\n",
       "      <td>11</td>\n",
       "      <td>1</td>\n",
       "      <td>13.0</td>\n",
       "      <td>0</td>\n",
       "      <td>0</td>\n",
       "      <td>0</td>\n",
       "      <td>0</td>\n",
       "      <td>0</td>\n",
       "      <td>0</td>\n",
       "      <td>0</td>\n",
       "      <td>0</td>\n",
       "    </tr>\n",
       "    <tr>\n",
       "      <th>3</th>\n",
       "      <td>1203168</td>\n",
       "      <td>14</td>\n",
       "      <td>25</td>\n",
       "      <td>1999</td>\n",
       "      <td>12</td>\n",
       "      <td>0</td>\n",
       "      <td>93.0</td>\n",
       "      <td>0</td>\n",
       "      <td>0</td>\n",
       "      <td>0</td>\n",
       "      <td>0</td>\n",
       "      <td>0</td>\n",
       "      <td>0</td>\n",
       "      <td>0</td>\n",
       "      <td>0</td>\n",
       "    </tr>\n",
       "    <tr>\n",
       "      <th>4</th>\n",
       "      <td>1733186</td>\n",
       "      <td>14</td>\n",
       "      <td>4</td>\n",
       "      <td>1999</td>\n",
       "      <td>12</td>\n",
       "      <td>1</td>\n",
       "      <td>82.0</td>\n",
       "      <td>0</td>\n",
       "      <td>0</td>\n",
       "      <td>0</td>\n",
       "      <td>0</td>\n",
       "      <td>0</td>\n",
       "      <td>0</td>\n",
       "      <td>0</td>\n",
       "      <td>0</td>\n",
       "    </tr>\n",
       "  </tbody>\n",
       "</table>\n",
       "</div>"
      ],
      "text/plain": [
       "    userid  age  dob_day  dob_year  dob_month gender  tenure  friend_count  \\\n",
       "0  2094382   14       19      1999         11      1   266.0             0   \n",
       "1  1192601   14        2      1999         11      0     6.0             0   \n",
       "2  2083884   14       16      1999         11      1    13.0             0   \n",
       "3  1203168   14       25      1999         12      0    93.0             0   \n",
       "4  1733186   14        4      1999         12      1    82.0             0   \n",
       "\n",
       "   friendships_initiated  likes  likes_received  mobile_likes  \\\n",
       "0                      0      0               0             0   \n",
       "1                      0      0               0             0   \n",
       "2                      0      0               0             0   \n",
       "3                      0      0               0             0   \n",
       "4                      0      0               0             0   \n",
       "\n",
       "   mobile_likes_received  www_likes  www_likes_received  \n",
       "0                      0          0                   0  \n",
       "1                      0          0                   0  \n",
       "2                      0          0                   0  \n",
       "3                      0          0                   0  \n",
       "4                      0          0                   0  "
      ]
     },
     "execution_count": 5,
     "metadata": {},
     "output_type": "execute_result"
    }
   ],
   "source": [
    "df.gender[df.gender == 'male'] = 1\n",
    "df.gender[df.gender == 'female'] = 0\n",
    "df.head()\n",
    "\n"
   ]
  },
  {
   "cell_type": "markdown",
   "metadata": {},
   "source": [
    "\n",
    "#### converting the gender characters into integers for the data evaluation.\n",
    "#### The male character has given the integer value '1' and the female character has given the value '0' ,for the ease of analysis "
   ]
  },
  {
   "cell_type": "markdown",
   "metadata": {},
   "source": [
    "\n"
   ]
  },
  {
   "cell_type": "code",
   "execution_count": null,
   "metadata": {},
   "outputs": [],
   "source": []
  },
  {
   "cell_type": "code",
   "execution_count": 6,
   "metadata": {},
   "outputs": [
    {
     "data": {
      "text/plain": [
       "<AxesSubplot:xlabel='gender'>"
      ]
     },
     "execution_count": 6,
     "metadata": {},
     "output_type": "execute_result"
    },
    {
     "data": {
      "image/png": "[encoded data removed]",
      "text/plain": [
       "<Figure size 432x288 with 1 Axes>"
      ]
     },
     "metadata": {
      "needs_background": "light"
     },
     "output_type": "display_data"
    }
   ],
   "source": [
    "plt.figure(figsize=(6,4))\n",
    "plt.show\n",
    "\n",
    "sns.boxplot(df.gender)\n"
   ]
  },
  {
   "cell_type": "code",
   "execution_count": 7,
   "metadata": {},
   "outputs": [
    {
     "data": {
      "text/plain": [
       "<AxesSubplot:xlabel='gender', ylabel='Density'>"
      ]
     },
     "execution_count": 7,
     "metadata": {},
     "output_type": "execute_result"
    },
    {
     "data": {
      "image/png": "[encoded data removed]",
      "text/plain": [
       "<Figure size 432x288 with 1 Axes>"
      ]
     },
     "metadata": {
      "needs_background": "light"
     },
     "output_type": "display_data"
    }
   ],
   "source": [
    "sns.distplot(df.gender,color='red')"
   ]
  },
  {
   "cell_type": "markdown",
   "metadata": {},
   "source": [
    "#### From the distplot we can have the assemption that gender male is using facebook Commonly so we are in th conclusion that filling mode value's in the null postion"
   ]
  },
  {
   "cell_type": "markdown",
   "metadata": {},
   "source": [
    "### Replacing Null Values with mode value "
   ]
  },
  {
   "cell_type": "code",
   "execution_count": 8,
   "metadata": {},
   "outputs": [],
   "source": [
    "df['gender'].fillna(df['gender'].mode()[0],inplace = True)"
   ]
  },
  {
   "cell_type": "code",
   "execution_count": 9,
   "metadata": {},
   "outputs": [
    {
     "data": {
      "text/plain": [
       "userid                   0\n",
       "age                      0\n",
       "dob_day                  0\n",
       "dob_year                 0\n",
       "dob_month                0\n",
       "gender                   0\n",
       "tenure                   2\n",
       "friend_count             0\n",
       "friendships_initiated    0\n",
       "likes                    0\n",
       "likes_received           0\n",
       "mobile_likes             0\n",
       "mobile_likes_received    0\n",
       "www_likes                0\n",
       "www_likes_received       0\n",
       "dtype: int64"
      ]
     },
     "execution_count": 9,
     "metadata": {},
     "output_type": "execute_result"
    }
   ],
   "source": [
    "df.isnull().sum()"
   ]
  },
  {
   "cell_type": "code",
   "execution_count": 10,
   "metadata": {},
   "outputs": [
    {
     "data": {
      "text/plain": [
       "<AxesSubplot:xlabel='tenure'>"
      ]
     },
     "execution_count": 10,
     "metadata": {},
     "output_type": "execute_result"
    },
    {
     "data": {
      "image/png": "[encoded data removed]",
      "text/plain": [
       "<Figure size 432x288 with 1 Axes>"
      ]
     },
     "metadata": {
      "needs_background": "light"
     },
     "output_type": "display_data"
    }
   ],
   "source": [
    "plt.figure(figsize=(6,4))\n",
    "plt.show\n",
    "sns.boxplot(df.tenure)\n"
   ]
  },
  {
   "cell_type": "code",
   "execution_count": 11,
   "metadata": {},
   "outputs": [
    {
     "data": {
      "text/plain": [
       "<AxesSubplot:xlabel='tenure', ylabel='Density'>"
      ]
     },
     "execution_count": 11,
     "metadata": {},
     "output_type": "execute_result"
    },
    {
     "data": {
      "image/png": "[encoded data removed]",
      "text/plain": [
       "<Figure size 432x288 with 1 Axes>"
      ]
     },
     "metadata": {
      "needs_background": "light"
     },
     "output_type": "display_data"
    }
   ],
   "source": [
    "sns.distplot(df.tenure,color='green')"
   ]
  },
  {
   "cell_type": "markdown",
   "metadata": {},
   "source": [
    "### From the boxplot its been clear that majority of tenure is the range of 0-1000 so we can't use mode or medain here to fill the null values.The null value in the tenure is filled with the median."
   ]
  },
  {
   "cell_type": "markdown",
   "metadata": {},
   "source": [
    "### Filling the null value in tenure with median"
   ]
  },
  {
   "cell_type": "code",
   "execution_count": 12,
   "metadata": {},
   "outputs": [],
   "source": [
    "df['tenure'].fillna(df['tenure'].mean(),inplace = True)"
   ]
  },
  {
   "cell_type": "code",
   "execution_count": 13,
   "metadata": {},
   "outputs": [
    {
     "data": {
      "text/plain": [
       "userid                   0\n",
       "age                      0\n",
       "dob_day                  0\n",
       "dob_year                 0\n",
       "dob_month                0\n",
       "gender                   0\n",
       "tenure                   0\n",
       "friend_count             0\n",
       "friendships_initiated    0\n",
       "likes                    0\n",
       "likes_received           0\n",
       "mobile_likes             0\n",
       "mobile_likes_received    0\n",
       "www_likes                0\n",
       "www_likes_received       0\n",
       "dtype: int64"
      ]
     },
     "execution_count": 13,
     "metadata": {},
     "output_type": "execute_result"
    }
   ],
   "source": [
    "df.isnull().sum()"
   ]
  },
  {
   "cell_type": "markdown",
   "metadata": {},
   "source": [
    "### Checking the co-relation with the each and every column "
   ]
  },
  {
   "cell_type": "code",
   "execution_count": 14,
   "metadata": {},
   "outputs": [
    {
     "data": {
      "text/html": [
       "<div>\n",
       "<style scoped>\n",
       "    .dataframe tbody tr th:only-of-type {\n",
       "        vertical-align: middle;\n",
       "    }\n",
       "\n",
       "    .dataframe tbody tr th {\n",
       "        vertical-align: top;\n",
       "    }\n",
       "\n",
       "    .dataframe thead th {\n",
       "        text-align: right;\n",
       "    }\n",
       "</style>\n",
       "<table border=\"1\" class=\"dataframe\">\n",
       "  <thead>\n",
       "    <tr style=\"text-align: right;\">\n",
       "      <th></th>\n",
       "      <th>userid</th>\n",
       "      <th>age</th>\n",
       "      <th>dob_day</th>\n",
       "      <th>dob_year</th>\n",
       "      <th>dob_month</th>\n",
       "      <th>gender</th>\n",
       "      <th>tenure</th>\n",
       "      <th>friend_count</th>\n",
       "      <th>friendships_initiated</th>\n",
       "      <th>likes</th>\n",
       "      <th>likes_received</th>\n",
       "      <th>mobile_likes</th>\n",
       "      <th>mobile_likes_received</th>\n",
       "      <th>www_likes</th>\n",
       "      <th>www_likes_received</th>\n",
       "    </tr>\n",
       "  </thead>\n",
       "  <tbody>\n",
       "    <tr>\n",
       "      <th>userid</th>\n",
       "      <td>1.000000</td>\n",
       "      <td>-0.007265</td>\n",
       "      <td>-0.000839</td>\n",
       "      <td>0.007265</td>\n",
       "      <td>0.002924</td>\n",
       "      <td>-0.001670</td>\n",
       "      <td>-0.003446</td>\n",
       "      <td>-0.001314</td>\n",
       "      <td>-0.001591</td>\n",
       "      <td>-0.002875</td>\n",
       "      <td>0.001526</td>\n",
       "      <td>-0.004868</td>\n",
       "      <td>0.001753</td>\n",
       "      <td>0.001828</td>\n",
       "      <td>0.001074</td>\n",
       "    </tr>\n",
       "    <tr>\n",
       "      <th>age</th>\n",
       "      <td>-0.007265</td>\n",
       "      <td>1.000000</td>\n",
       "      <td>0.035035</td>\n",
       "      <td>-1.000000</td>\n",
       "      <td>0.025167</td>\n",
       "      <td>-0.079871</td>\n",
       "      <td>0.462710</td>\n",
       "      <td>-0.027407</td>\n",
       "      <td>-0.058059</td>\n",
       "      <td>-0.013009</td>\n",
       "      <td>-0.022570</td>\n",
       "      <td>-0.026715</td>\n",
       "      <td>-0.024248</td>\n",
       "      <td>0.015585</td>\n",
       "      <td>-0.018224</td>\n",
       "    </tr>\n",
       "    <tr>\n",
       "      <th>dob_day</th>\n",
       "      <td>-0.000839</td>\n",
       "      <td>0.035035</td>\n",
       "      <td>1.000000</td>\n",
       "      <td>-0.035035</td>\n",
       "      <td>0.129443</td>\n",
       "      <td>-0.046573</td>\n",
       "      <td>0.041854</td>\n",
       "      <td>0.021961</td>\n",
       "      <td>0.022999</td>\n",
       "      <td>0.015980</td>\n",
       "      <td>0.001367</td>\n",
       "      <td>0.014541</td>\n",
       "      <td>0.000497</td>\n",
       "      <td>0.009353</td>\n",
       "      <td>0.002460</td>\n",
       "    </tr>\n",
       "    <tr>\n",
       "      <th>dob_year</th>\n",
       "      <td>0.007265</td>\n",
       "      <td>-1.000000</td>\n",
       "      <td>-0.035035</td>\n",
       "      <td>1.000000</td>\n",
       "      <td>-0.025167</td>\n",
       "      <td>0.079871</td>\n",
       "      <td>-0.462710</td>\n",
       "      <td>0.027407</td>\n",
       "      <td>0.058059</td>\n",
       "      <td>0.013009</td>\n",
       "      <td>0.022570</td>\n",
       "      <td>0.026715</td>\n",
       "      <td>0.024248</td>\n",
       "      <td>-0.015585</td>\n",
       "      <td>0.018224</td>\n",
       "    </tr>\n",
       "    <tr>\n",
       "      <th>dob_month</th>\n",
       "      <td>0.002924</td>\n",
       "      <td>0.025167</td>\n",
       "      <td>0.129443</td>\n",
       "      <td>-0.025167</td>\n",
       "      <td>1.000000</td>\n",
       "      <td>-0.035756</td>\n",
       "      <td>0.029445</td>\n",
       "      <td>0.019804</td>\n",
       "      <td>0.020075</td>\n",
       "      <td>0.014147</td>\n",
       "      <td>0.006495</td>\n",
       "      <td>0.010400</td>\n",
       "      <td>0.006435</td>\n",
       "      <td>0.012136</td>\n",
       "      <td>0.006003</td>\n",
       "    </tr>\n",
       "    <tr>\n",
       "      <th>gender</th>\n",
       "      <td>-0.001670</td>\n",
       "      <td>-0.079871</td>\n",
       "      <td>-0.046573</td>\n",
       "      <td>0.079871</td>\n",
       "      <td>-0.035756</td>\n",
       "      <td>1.000000</td>\n",
       "      <td>-0.089242</td>\n",
       "      <td>-0.097499</td>\n",
       "      <td>-0.028266</td>\n",
       "      <td>-0.150389</td>\n",
       "      <td>-0.064857</td>\n",
       "      <td>-0.124181</td>\n",
       "      <td>-0.062071</td>\n",
       "      <td>-0.107763</td>\n",
       "      <td>-0.062990</td>\n",
       "    </tr>\n",
       "    <tr>\n",
       "      <th>tenure</th>\n",
       "      <td>-0.003446</td>\n",
       "      <td>0.462710</td>\n",
       "      <td>0.041854</td>\n",
       "      <td>-0.462710</td>\n",
       "      <td>0.029445</td>\n",
       "      <td>-0.089242</td>\n",
       "      <td>1.000000</td>\n",
       "      <td>0.166256</td>\n",
       "      <td>0.133505</td>\n",
       "      <td>0.057132</td>\n",
       "      <td>0.027745</td>\n",
       "      <td>0.028052</td>\n",
       "      <td>0.023971</td>\n",
       "      <td>0.070757</td>\n",
       "      <td>0.030553</td>\n",
       "    </tr>\n",
       "    <tr>\n",
       "      <th>friend_count</th>\n",
       "      <td>-0.001314</td>\n",
       "      <td>-0.027407</td>\n",
       "      <td>0.021961</td>\n",
       "      <td>0.027407</td>\n",
       "      <td>0.019804</td>\n",
       "      <td>-0.097499</td>\n",
       "      <td>0.166256</td>\n",
       "      <td>1.000000</td>\n",
       "      <td>0.825850</td>\n",
       "      <td>0.298017</td>\n",
       "      <td>0.236463</td>\n",
       "      <td>0.235656</td>\n",
       "      <td>0.232701</td>\n",
       "      <td>0.229803</td>\n",
       "      <td>0.220727</td>\n",
       "    </tr>\n",
       "    <tr>\n",
       "      <th>friendships_initiated</th>\n",
       "      <td>-0.001591</td>\n",
       "      <td>-0.058059</td>\n",
       "      <td>0.022999</td>\n",
       "      <td>0.058059</td>\n",
       "      <td>0.020075</td>\n",
       "      <td>-0.028266</td>\n",
       "      <td>0.133505</td>\n",
       "      <td>0.825850</td>\n",
       "      <td>1.000000</td>\n",
       "      <td>0.285592</td>\n",
       "      <td>0.175131</td>\n",
       "      <td>0.229808</td>\n",
       "      <td>0.173804</td>\n",
       "      <td>0.214022</td>\n",
       "      <td>0.161439</td>\n",
       "    </tr>\n",
       "    <tr>\n",
       "      <th>likes</th>\n",
       "      <td>-0.002875</td>\n",
       "      <td>-0.013009</td>\n",
       "      <td>0.015980</td>\n",
       "      <td>0.013009</td>\n",
       "      <td>0.014147</td>\n",
       "      <td>-0.150389</td>\n",
       "      <td>0.057132</td>\n",
       "      <td>0.298017</td>\n",
       "      <td>0.285592</td>\n",
       "      <td>1.000000</td>\n",
       "      <td>0.327376</td>\n",
       "      <td>0.871652</td>\n",
       "      <td>0.329258</td>\n",
       "      <td>0.644960</td>\n",
       "      <td>0.295687</td>\n",
       "    </tr>\n",
       "    <tr>\n",
       "      <th>likes_received</th>\n",
       "      <td>0.001526</td>\n",
       "      <td>-0.022570</td>\n",
       "      <td>0.001367</td>\n",
       "      <td>0.022570</td>\n",
       "      <td>0.006495</td>\n",
       "      <td>-0.064857</td>\n",
       "      <td>0.027745</td>\n",
       "      <td>0.236463</td>\n",
       "      <td>0.175131</td>\n",
       "      <td>0.327376</td>\n",
       "      <td>1.000000</td>\n",
       "      <td>0.256998</td>\n",
       "      <td>0.973679</td>\n",
       "      <td>0.255365</td>\n",
       "      <td>0.947990</td>\n",
       "    </tr>\n",
       "    <tr>\n",
       "      <th>mobile_likes</th>\n",
       "      <td>-0.004868</td>\n",
       "      <td>-0.026715</td>\n",
       "      <td>0.014541</td>\n",
       "      <td>0.026715</td>\n",
       "      <td>0.010400</td>\n",
       "      <td>-0.124181</td>\n",
       "      <td>0.028052</td>\n",
       "      <td>0.235656</td>\n",
       "      <td>0.229808</td>\n",
       "      <td>0.871652</td>\n",
       "      <td>0.256998</td>\n",
       "      <td>1.000000</td>\n",
       "      <td>0.288513</td>\n",
       "      <td>0.187619</td>\n",
       "      <td>0.190173</td>\n",
       "    </tr>\n",
       "    <tr>\n",
       "      <th>mobile_likes_received</th>\n",
       "      <td>0.001753</td>\n",
       "      <td>-0.024248</td>\n",
       "      <td>0.000497</td>\n",
       "      <td>0.024248</td>\n",
       "      <td>0.006435</td>\n",
       "      <td>-0.062071</td>\n",
       "      <td>0.023971</td>\n",
       "      <td>0.232701</td>\n",
       "      <td>0.173804</td>\n",
       "      <td>0.329258</td>\n",
       "      <td>0.973679</td>\n",
       "      <td>0.288513</td>\n",
       "      <td>1.000000</td>\n",
       "      <td>0.209997</td>\n",
       "      <td>0.850490</td>\n",
       "    </tr>\n",
       "    <tr>\n",
       "      <th>www_likes</th>\n",
       "      <td>0.001828</td>\n",
       "      <td>0.015585</td>\n",
       "      <td>0.009353</td>\n",
       "      <td>-0.015585</td>\n",
       "      <td>0.012136</td>\n",
       "      <td>-0.107763</td>\n",
       "      <td>0.070757</td>\n",
       "      <td>0.229803</td>\n",
       "      <td>0.214022</td>\n",
       "      <td>0.644960</td>\n",
       "      <td>0.255365</td>\n",
       "      <td>0.187619</td>\n",
       "      <td>0.209997</td>\n",
       "      <td>1.000000</td>\n",
       "      <td>0.296053</td>\n",
       "    </tr>\n",
       "    <tr>\n",
       "      <th>www_likes_received</th>\n",
       "      <td>0.001074</td>\n",
       "      <td>-0.018224</td>\n",
       "      <td>0.002460</td>\n",
       "      <td>0.018224</td>\n",
       "      <td>0.006003</td>\n",
       "      <td>-0.062990</td>\n",
       "      <td>0.030553</td>\n",
       "      <td>0.220727</td>\n",
       "      <td>0.161439</td>\n",
       "      <td>0.295687</td>\n",
       "      <td>0.947990</td>\n",
       "      <td>0.190173</td>\n",
       "      <td>0.850490</td>\n",
       "      <td>0.296053</td>\n",
       "      <td>1.000000</td>\n",
       "    </tr>\n",
       "  </tbody>\n",
       "</table>\n",
       "</div>"
      ],
      "text/plain": [
       "                         userid       age   dob_day  dob_year  dob_month  \\\n",
       "userid                 1.000000 -0.007265 -0.000839  0.007265   0.002924   \n",
       "age                   -0.007265  1.000000  0.035035 -1.000000   0.025167   \n",
       "dob_day               -0.000839  0.035035  1.000000 -0.035035   0.129443   \n",
       "dob_year               0.007265 -1.000000 -0.035035  1.000000  -0.025167   \n",
       "dob_month              0.002924  0.025167  0.129443 -0.025167   1.000000   \n",
       "gender                -0.001670 -0.079871 -0.046573  0.079871  -0.035756   \n",
       "tenure                -0.003446  0.462710  0.041854 -0.462710   0.029445   \n",
       "friend_count          -0.001314 -0.027407  0.021961  0.027407   0.019804   \n",
       "friendships_initiated -0.001591 -0.058059  0.022999  0.058059   0.020075   \n",
       "likes                 -0.002875 -0.013009  0.015980  0.013009   0.014147   \n",
       "likes_received         0.001526 -0.022570  0.001367  0.022570   0.006495   \n",
       "mobile_likes          -0.004868 -0.026715  0.014541  0.026715   0.010400   \n",
       "mobile_likes_received  0.001753 -0.024248  0.000497  0.024248   0.006435   \n",
       "www_likes              0.001828  0.015585  0.009353 -0.015585   0.012136   \n",
       "www_likes_received     0.001074 -0.018224  0.002460  0.018224   0.006003   \n",
       "\n",
       "                         gender    tenure  friend_count  \\\n",
       "userid                -0.001670 -0.003446     -0.001314   \n",
       "age                   -0.079871  0.462710     -0.027407   \n",
       "dob_day               -0.046573  0.041854      0.021961   \n",
       "dob_year               0.079871 -0.462710      0.027407   \n",
       "dob_month             -0.035756  0.029445      0.019804   \n",
       "gender                 1.000000 -0.089242     -0.097499   \n",
       "tenure                -0.089242  1.000000      0.166256   \n",
       "friend_count          -0.097499  0.166256      1.000000   \n",
       "friendships_initiated -0.028266  0.133505      0.825850   \n",
       "likes                 -0.150389  0.057132      0.298017   \n",
       "likes_received        -0.064857  0.027745      0.236463   \n",
       "mobile_likes          -0.124181  0.028052      0.235656   \n",
       "mobile_likes_received -0.062071  0.023971      0.232701   \n",
       "www_likes             -0.107763  0.070757      0.229803   \n",
       "www_likes_received    -0.062990  0.030553      0.220727   \n",
       "\n",
       "                       friendships_initiated     likes  likes_received  \\\n",
       "userid                             -0.001591 -0.002875        0.001526   \n",
       "age                                -0.058059 -0.013009       -0.022570   \n",
       "dob_day                             0.022999  0.015980        0.001367   \n",
       "dob_year                            0.058059  0.013009        0.022570   \n",
       "dob_month                           0.020075  0.014147        0.006495   \n",
       "gender                             -0.028266 -0.150389       -0.064857   \n",
       "tenure                              0.133505  0.057132        0.027745   \n",
       "friend_count                        0.825850  0.298017        0.236463   \n",
       "friendships_initiated               1.000000  0.285592        0.175131   \n",
       "likes                               0.285592  1.000000        0.327376   \n",
       "likes_received                      0.175131  0.327376        1.000000   \n",
       "mobile_likes                        0.229808  0.871652        0.256998   \n",
       "mobile_likes_received               0.173804  0.329258        0.973679   \n",
       "www_likes                           0.214022  0.644960        0.255365   \n",
       "www_likes_received                  0.161439  0.295687        0.947990   \n",
       "\n",
       "                       mobile_likes  mobile_likes_received  www_likes  \\\n",
       "userid                    -0.004868               0.001753   0.001828   \n",
       "age                       -0.026715              -0.024248   0.015585   \n",
       "dob_day                    0.014541               0.000497   0.009353   \n",
       "dob_year                   0.026715               0.024248  -0.015585   \n",
       "dob_month                  0.010400               0.006435   0.012136   \n",
       "gender                    -0.124181              -0.062071  -0.107763   \n",
       "tenure                     0.028052               0.023971   0.070757   \n",
       "friend_count               0.235656               0.232701   0.229803   \n",
       "friendships_initiated      0.229808               0.173804   0.214022   \n",
       "likes                      0.871652               0.329258   0.644960   \n",
       "likes_received             0.256998               0.973679   0.255365   \n",
       "mobile_likes               1.000000               0.288513   0.187619   \n",
       "mobile_likes_received      0.288513               1.000000   0.209997   \n",
       "www_likes                  0.187619               0.209997   1.000000   \n",
       "www_likes_received         0.190173               0.850490   0.296053   \n",
       "\n",
       "                       www_likes_received  \n",
       "userid                           0.001074  \n",
       "age                             -0.018224  \n",
       "dob_day                          0.002460  \n",
       "dob_year                         0.018224  \n",
       "dob_month                        0.006003  \n",
       "gender                          -0.062990  \n",
       "tenure                           0.030553  \n",
       "friend_count                     0.220727  \n",
       "friendships_initiated            0.161439  \n",
       "likes                            0.295687  \n",
       "likes_received                   0.947990  \n",
       "mobile_likes                     0.190173  \n",
       "mobile_likes_received            0.850490  \n",
       "www_likes                        0.296053  \n",
       "www_likes_received               1.000000  "
      ]
     },
     "execution_count": 14,
     "metadata": {},
     "output_type": "execute_result"
    }
   ],
   "source": [
    "df.corr()"
   ]
  },
  {
   "cell_type": "markdown",
   "metadata": {},
   "source": [
    "### Plotiing the heatmap showing the co-realtionship of each column values"
   ]
  },
  {
   "cell_type": "code",
   "execution_count": 15,
   "metadata": {},
   "outputs": [
    {
     "data": {
      "image/png": "[encoded data removed]",
      "text/plain": [
       "<Figure size 1440x864 with 2 Axes>"
      ]
     },
     "metadata": {
      "needs_background": "light"
     },
     "output_type": "display_data"
    }
   ],
   "source": [
    "plt.figure(figsize=(20,12))\n",
    "ax = sns.heatmap(df.corr(),annot = True, fmt = \".3f\",linewidth=.5,cmap = \"Blues\")"
   ]
  },
  {
   "cell_type": "markdown",
   "metadata": {},
   "source": [
    "#### From the heatmap represntation we can say that co-realtion showing dark color are in strong relationship and the box with showing"
   ]
  },
  {
   "cell_type": "markdown",
   "metadata": {},
   "source": [
    "### Pie Chart"
   ]
  },
  {
   "cell_type": "code",
   "execution_count": 16,
   "metadata": {},
   "outputs": [
    {
     "data": {
      "image/png": "[encoded data removed]",
      "text/plain": [
       "<Figure size 1656x576 with 1 Axes>"
      ]
     },
     "metadata": {},
     "output_type": "display_data"
    }
   ],
   "source": [
    "plt.figure(figsize=(23,8))\n",
    "labels = [\"Male\",\"Female\"]\n",
    "values = df['gender'].value_counts().tolist()\n",
    "mycolors = [\"Green\",\"Pink\"]\n",
    "dia1 = plt.pie(values, labels=labels, autopct=\"%1.2f%%\", shadow=True, explode=[0, 0.1],colors= mycolors,startangle = 90)\n",
    "plt.title(\"Usage of Facebook in Relation with Gender\" ,bbox={'facecolor':'0.8', 'pad':5})\n",
    "plt.legend(title= \"Gender\")\n",
    "plt.show(dia1)"
   ]
  },
  {
   "cell_type": "markdown",
   "metadata": {},
   "source": [
    "### From the above pie chart its been showing that the majority user of Facebook is Male with an percentage of 59.34% ,the same about 40.66% of total users are females."
   ]
  },
  {
   "cell_type": "code",
   "execution_count": 17,
   "metadata": {
    "scrolled": true
   },
   "outputs": [
    {
     "name": "stdout",
     "output_type": "stream",
     "text": [
      "   gender  friend_count\n",
      "0       0       9740258\n",
      "1       1       9699059\n"
     ]
    },
    {
     "data": {
      "text/plain": [
       "Text(0.5, 1.0, 'Grouping the gender on total number of friends')"
      ]
     },
     "execution_count": 17,
     "metadata": {},
     "output_type": "execute_result"
    },
    {
     "data": {
      "image/png": "[encoded data removed]",
      "text/plain": [
       "<Figure size 432x288 with 1 Axes>"
      ]
     },
     "metadata": {},
     "output_type": "display_data"
    }
   ],
   "source": [
    "colors = [\"green\",\"pink\"]\n",
    "labels = [\"Male\",\"Female\"]\n",
    "df_count = df.groupby([\"gender\"]).friend_count.sum().reset_index()\n",
    "print(df_count)\n",
    "plt.style.use('ggplot')\n",
    "plt.hist(df_count,color= colors,label=labels,bins=15,density = True)\n",
    "plt.title('Grouping the gender on total number of friends' )"
   ]
  },
  {
   "cell_type": "markdown",
   "metadata": {},
   "source": [
    "### From counting we had found that there is only slight variation in the total amount of friends based on gender"
   ]
  },
  {
   "cell_type": "code",
   "execution_count": 18,
   "metadata": {},
   "outputs": [
    {
     "name": "stdout",
     "output_type": "stream",
     "text": [
      "   gender  friendships_initiated\n",
      "0       0                4584894\n",
      "1       1                6053223\n"
     ]
    }
   ],
   "source": [
    "df_intiated = df.groupby([\"gender\"]).friendships_initiated.sum().reset_index()\n",
    "print(df_intiated)"
   ]
  },
  {
   "cell_type": "markdown",
   "metadata": {},
   "source": [
    "### From the count more  friend requests are intiated by the gender Male and Female are not more interested with intiating friends addition"
   ]
  },
  {
   "cell_type": "code",
   "execution_count": 19,
   "metadata": {},
   "outputs": [
    {
     "name": "stdout",
     "output_type": "stream",
     "text": [
      "   gender        tenure\n",
      "0       0  2.363823e+07\n",
      "1       1  2.961424e+07\n"
     ]
    }
   ],
   "source": [
    "df_intiated = df.groupby([\"gender\"]).tenure.sum().reset_index()\n",
    "print(df_intiated)"
   ]
  },
  {
   "cell_type": "markdown",
   "metadata": {},
   "source": [
    "### From the count it showing tenure is more in Males than females"
   ]
  },
  {
   "cell_type": "markdown",
   "metadata": {},
   "source": [
    "## Checking least active users in Facebook"
   ]
  },
  {
   "cell_type": "code",
   "execution_count": 20,
   "metadata": {},
   "outputs": [
    {
     "data": {
      "text/plain": [
       "friend_count    1962\n",
       "dtype: int64"
      ]
     },
     "execution_count": 20,
     "metadata": {},
     "output_type": "execute_result"
    }
   ],
   "source": [
    "zero_friend = df[['friend_count']].eq(0).sum()\n",
    "zero_friend"
   ]
  },
  {
   "cell_type": "code",
   "execution_count": 21,
   "metadata": {},
   "outputs": [
    {
     "data": {
      "text/plain": [
       "likes_received    24428\n",
       "dtype: int64"
      ]
     },
     "execution_count": 21,
     "metadata": {},
     "output_type": "execute_result"
    }
   ],
   "source": [
    "likes_recv = df[['likes_received']].eq(0).sum()\n",
    "likes_recv"
   ]
  },
  {
   "cell_type": "code",
   "execution_count": 22,
   "metadata": {
    "scrolled": true
   },
   "outputs": [
    {
     "data": {
      "text/plain": [
       "likes    22308\n",
       "dtype: int64"
      ]
     },
     "execution_count": 22,
     "metadata": {},
     "output_type": "execute_result"
    }
   ],
   "source": [
    "likes = df[['likes']].eq(0).sum()\n",
    "likes"
   ]
  },
  {
   "cell_type": "markdown",
   "metadata": {},
   "source": [
    "### By Analysing the friend count we comes to a conclusion that almost 1962 users in the facebook doesnt have friends at all\n",
    "\n",
    "###  Analysing the amount likes recieved by users in facebook around 24428 persons in the facebook doesnt have a minm of 1 likes \n",
    "### An amount of 22308 users in the facebook even didnt like any of the posts"
   ]
  },
  {
   "cell_type": "markdown",
   "metadata": {},
   "source": [
    "# Analysis of Mobile Devices vs Web Devices"
   ]
  },
  {
   "cell_type": "markdown",
   "metadata": {},
   "source": [
    "## Analysis of Gender vs Mobile likes"
   ]
  },
  {
   "cell_type": "code",
   "execution_count": 33,
   "metadata": {},
   "outputs": [
    {
     "data": {
      "text/html": [
       "<div>\n",
       "<style scoped>\n",
       "    .dataframe tbody tr th:only-of-type {\n",
       "        vertical-align: middle;\n",
       "    }\n",
       "\n",
       "    .dataframe tbody tr th {\n",
       "        vertical-align: top;\n",
       "    }\n",
       "\n",
       "    .dataframe thead th {\n",
       "        text-align: right;\n",
       "    }\n",
       "</style>\n",
       "<table border=\"1\" class=\"dataframe\">\n",
       "  <thead>\n",
       "    <tr style=\"text-align: right;\">\n",
       "      <th></th>\n",
       "      <th>gender</th>\n",
       "      <th>mobile_likes</th>\n",
       "    </tr>\n",
       "  </thead>\n",
       "  <tbody>\n",
       "    <tr>\n",
       "      <th>0</th>\n",
       "      <td>0</td>\n",
       "      <td>172.912928</td>\n",
       "    </tr>\n",
       "    <tr>\n",
       "      <th>1</th>\n",
       "      <td>1</td>\n",
       "      <td>60.348176</td>\n",
       "    </tr>\n",
       "  </tbody>\n",
       "</table>\n",
       "</div>"
      ],
      "text/plain": [
       "   gender  mobile_likes\n",
       "0       0    172.912928\n",
       "1       1     60.348176"
      ]
     },
     "execution_count": 33,
     "metadata": {},
     "output_type": "execute_result"
    }
   ],
   "source": [
    "gender_mobilike = df.groupby('gender',as_index = False)['mobile_likes'].mean()\n",
    "gender_mobilike\n",
    "sample = pd.DataFrame(gender_mobilike)\n",
    "sample\n"
   ]
  },
  {
   "cell_type": "markdown",
   "metadata": {},
   "source": [
    "### From the analysis we had found that an average of 172.91 famales getting the likes through mobile phone device,in same way we can say that almost an average of 60.34 males are getting like through mobile phones."
   ]
  },
  {
   "cell_type": "code",
   "execution_count": null,
   "metadata": {},
   "outputs": [],
   "source": []
  },
  {
   "cell_type": "code",
   "execution_count": 41,
   "metadata": {},
   "outputs": [
    {
     "data": {
      "text/plain": [
       "<AxesSubplot:xlabel='gender', ylabel='Count'>"
      ]
     },
     "execution_count": 41,
     "metadata": {},
     "output_type": "execute_result"
    },
    {
     "data": {
      "image/png": "[encoded data removed]",
      "text/plain": [
       "<Figure size 432x288 with 1 Axes>"
      ]
     },
     "metadata": {},
     "output_type": "display_data"
    }
   ],
   "source": [
    "sample = df.groupby('gender')\n",
    "sample.size().plot(kind='bar')\n",
    "sns.histplot(data=gender_mobilike,label = \"Gender\",kde = True)"
   ]
  },
  {
   "cell_type": "code",
   "execution_count": 26,
   "metadata": {},
   "outputs": [
    {
     "data": {
      "text/html": [
       "<div>\n",
       "<style scoped>\n",
       "    .dataframe tbody tr th:only-of-type {\n",
       "        vertical-align: middle;\n",
       "    }\n",
       "\n",
       "    .dataframe tbody tr th {\n",
       "        vertical-align: top;\n",
       "    }\n",
       "\n",
       "    .dataframe thead th {\n",
       "        text-align: right;\n",
       "    }\n",
       "</style>\n",
       "<table border=\"1\" class=\"dataframe\">\n",
       "  <thead>\n",
       "    <tr style=\"text-align: right;\">\n",
       "      <th></th>\n",
       "      <th>gender</th>\n",
       "      <th>www_likes</th>\n",
       "    </tr>\n",
       "  </thead>\n",
       "  <tbody>\n",
       "    <tr>\n",
       "      <th>0</th>\n",
       "      <td>0</td>\n",
       "      <td>87.138297</td>\n",
       "    </tr>\n",
       "    <tr>\n",
       "      <th>1</th>\n",
       "      <td>1</td>\n",
       "      <td>24.490034</td>\n",
       "    </tr>\n",
       "  </tbody>\n",
       "</table>\n",
       "</div>"
      ],
      "text/plain": [
       "   gender  www_likes\n",
       "0       0  87.138297\n",
       "1       1  24.490034"
      ]
     },
     "execution_count": 26,
     "metadata": {},
     "output_type": "execute_result"
    }
   ],
   "source": [
    "gender_weblike = df.groupby('gender',as_index = False)['www_likes'].mean()\n",
    "gender_weblike\n"
   ]
  },
  {
   "cell_type": "markdown",
   "metadata": {},
   "source": [
    "### From the analysis we get the conclusion that gender females get maximum like of an average of 87.13 and the gender male gets only an average of 24.49 likes through web facebook"
   ]
  },
  {
   "cell_type": "code",
   "execution_count": 27,
   "metadata": {},
   "outputs": [
    {
     "data": {
      "text/html": [
       "<div>\n",
       "<style scoped>\n",
       "    .dataframe tbody tr th:only-of-type {\n",
       "        vertical-align: middle;\n",
       "    }\n",
       "\n",
       "    .dataframe tbody tr th {\n",
       "        vertical-align: top;\n",
       "    }\n",
       "\n",
       "    .dataframe thead th {\n",
       "        text-align: right;\n",
       "    }\n",
       "</style>\n",
       "<table border=\"1\" class=\"dataframe\">\n",
       "  <thead>\n",
       "    <tr style=\"text-align: right;\">\n",
       "      <th></th>\n",
       "      <th>gender</th>\n",
       "      <th>mobile_likes_received</th>\n",
       "    </tr>\n",
       "  </thead>\n",
       "  <tbody>\n",
       "    <tr>\n",
       "      <th>0</th>\n",
       "      <td>0</td>\n",
       "      <td>147.100884</td>\n",
       "    </tr>\n",
       "    <tr>\n",
       "      <th>1</th>\n",
       "      <td>1</td>\n",
       "      <td>40.967199</td>\n",
       "    </tr>\n",
       "  </tbody>\n",
       "</table>\n",
       "</div>"
      ],
      "text/plain": [
       "   gender  mobile_likes_received\n",
       "0       0             147.100884\n",
       "1       1              40.967199"
      ]
     },
     "execution_count": 27,
     "metadata": {},
     "output_type": "execute_result"
    }
   ],
   "source": [
    "gender_mobilikerecv = df.groupby('gender',as_index = False)['mobile_likes_received'].mean()\n",
    "gender_mobilikerecv"
   ]
  },
  {
   "cell_type": "markdown",
   "metadata": {},
   "source": [
    "### The analysis of the like recieved through mobile and web portal are showing.The like recieved through mobiles based on Gender showing females are having an Avg of 147.10 which is almost 4 times compared to the gender male having an Avg of 40.96"
   ]
  },
  {
   "cell_type": "code",
   "execution_count": 28,
   "metadata": {},
   "outputs": [
    {
     "data": {
      "text/html": [
       "<div>\n",
       "<style scoped>\n",
       "    .dataframe tbody tr th:only-of-type {\n",
       "        vertical-align: middle;\n",
       "    }\n",
       "\n",
       "    .dataframe tbody tr th {\n",
       "        vertical-align: top;\n",
       "    }\n",
       "\n",
       "    .dataframe thead th {\n",
       "        text-align: right;\n",
       "    }\n",
       "</style>\n",
       "<table border=\"1\" class=\"dataframe\">\n",
       "  <thead>\n",
       "    <tr style=\"text-align: right;\">\n",
       "      <th></th>\n",
       "      <th>gender</th>\n",
       "      <th>www_likes_received</th>\n",
       "    </tr>\n",
       "  </thead>\n",
       "  <tbody>\n",
       "    <tr>\n",
       "      <th>0</th>\n",
       "      <td>0</td>\n",
       "      <td>104.334451</td>\n",
       "    </tr>\n",
       "    <tr>\n",
       "      <th>1</th>\n",
       "      <td>1</td>\n",
       "      <td>27.210863</td>\n",
       "    </tr>\n",
       "  </tbody>\n",
       "</table>\n",
       "</div>"
      ],
      "text/plain": [
       "   gender  www_likes_received\n",
       "0       0          104.334451\n",
       "1       1           27.210863"
      ]
     },
     "execution_count": 28,
     "metadata": {},
     "output_type": "execute_result"
    }
   ],
   "source": [
    "gender_weblikerecv = df.groupby('gender',as_index = False)['www_likes_received'].mean()\n",
    "gender_weblikerecv\n"
   ]
  },
  {
   "cell_type": "markdown",
   "metadata": {},
   "source": [
    "### Compared to mobile like recieved through mobile .The Avg of like recieved through web portal is low ,having gender female of 104.33 and males having an Avg of 27.21"
   ]
  },
  {
   "cell_type": "code",
   "execution_count": null,
   "metadata": {},
   "outputs": [],
   "source": []
  },
  {
   "cell_type": "code",
   "execution_count": null,
   "metadata": {},
   "outputs": [],
   "source": []
  }
 ],
 "metadata": {
  "kernelspec": {
   "display_name": "Python 3",
   "language": "python",
   "name": "python3"
  },
  "language_info": {
   "codemirror_mode": {
    "name": "ipython",
    "version": 3
   },
   "file_extension": ".py",
   "mimetype": "text/x-python",
   "name": "python",
   "nbconvert_exporter": "python",
   "pygments_lexer": "ipython3",
   "version": "3.8.5"
  }
 },
 "nbformat": 4,
 "nbformat_minor": 4
}
